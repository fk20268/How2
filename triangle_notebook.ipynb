{
 "cells": [
  {
   "cell_type": "markdown",
   "id": "2500cea7",
   "metadata": {},
   "source": [
    "# HOW2 \n",
    "\n",
    "The following notebook will walk you through some basic python that will help you create triangles and graphs.\n",
    "Make sure you **run all of the code blocks in the order they appear** in this notebook, as they can depend on each other.\n",
    "I have tried to make the variable names as self explanatory as possible.\n",
    "\n",
    "If a line starts with #, then it is a comment and will explain the code it surrounds.\n",
    "\n",
    "\n",
    "## Imports\n",
    "In the cell below, all that is happening is we are importing the packages we will be using in this tutorial "
   ]
  },
  {
   "cell_type": "code",
   "execution_count": null,
   "id": "e27efe3a",
   "metadata": {},
   "outputs": [],
   "source": [
    "%matplotlib inline\n",
    "import matplotlib\n",
    "#from tabulate import tabulate\n",
    "\n",
    "import matplotlib.pyplot as plt\n",
    "import pandas as pd\n",
    "import numpy as np"
   ]
  },
  {
   "cell_type": "markdown",
   "id": "64744ff8",
   "metadata": {},
   "source": [
    "Where we have written e.g. ```import matplotlib.pyplot as plt``` all this means is we are importing it and renaming it under an alias we choose. This just makes our lives easier as when we want to call the function, we can just type ```plt``` instead of\n",
    "the entire ```matplotlib.pyplot```\n",
    "\n",
    "The ```%matplotlib inline``` allows us to view the graphs in this notebook\n",
    "\n",
    "# Gross Premiums Received\n",
    "\n",
    "In the section below, we will create triangles and graphs relating to the 'Gross Premiums Received' from the data in the data.csv file.\n",
    "\n",
    "## Reading from a .csv File\n",
    "\n",
    "In the cell below, we are reading the data in the .csv file into a DataFrame (using the ```pd.read_csv(FILENAME)``` function). A DataFrame is basically just a spreadsheet. You can name the DataFrame anything, in this example, we have chosen the variable name df.\n",
    "\n",
    "By default, the ```.dropna()``` function returns a new DataFrame and removes any rows that contain NA values. The ```inplace = True``` is necessary to make the changes take place in **the same** DataFrame. Otherwise, you would have to reassign the variable, like: ```df = df.dropna()```. The option ```thresh=2``` defines a threshold. In this example, it deletes all rows that don't meet the threshold of having at least 2 non-NA values. \n",
    "If we didn't have this threshold, then all of the rows would be deleted, as the \"unnamed\" column contains an NaN value for each row. This is not the outcome we want.\n",
    "\n",
    "We also don't want commas to be polluting our numbers so, to remove them, use ```df = df.replace(',','', regex = True)``` where the ```regex = True``` option will also replace commas inside substrings\n",
    "\n",
    "the ```display(df)``` command will print a pretty table displaying the DataFrame."
   ]
  },
  {
   "cell_type": "code",
   "execution_count": null,
   "id": "033657d7",
   "metadata": {},
   "outputs": [],
   "source": [
    "df = pd.read_csv('data.csv')\n",
    "\n",
    "df.dropna(inplace = True, thresh = 2)\n",
    "\n",
    "# we could also remove any column that contains any number of Na values > 0 (we still need to do the above command, otherwise \n",
    "# every column would be removed!) uncomment the line below and run again to see what happens\n",
    "#df.dropna(axis='columns', inplace=True)\n",
    "\n",
    "\n",
    "df.replace(',','', regex = True, inplace=True)\n",
    "\n",
    "# here we just change the pandas settings so we can see all the rows in the tables. You can change it if you would like. \n",
    "# see what happens when you change None to 4 (make sure to change it back afterwards for the rest of the tutorial)\n",
    "pd.set_option(\"display.max_rows\", None)\n",
    "\n",
    "display(df)\n",
    "\n",
    "# an alternative to display() is print(tabulate(df, headers = 'keys', tablefmt = 'pretty')), if you want to use it, uncomment\n",
    "# it in the imports and install it on your machine"
   ]
  },
  {
   "cell_type": "markdown",
   "id": "e0bdb129",
   "metadata": {},
   "source": [
    "## Altering the DataFrame\n",
    "\n",
    "2013.0 is a strange way to write a year, lets force it to be written as 2013. In other words, lets convert the type of the \"Underwriting YoA\" column from type float to be of type int. Lets also change the \"Process Year\" and \"Development period\" column just for fun.\n",
    "\n",
    "I'm also going to convert the \"Processing Month\" column to type string for a later exercise. This is so it is subscriptable (This will be explained in more detail in the section). I'm going to convert it to int first though, to get rid of the decimal."
   ]
  },
  {
   "cell_type": "code",
   "execution_count": null,
   "id": "44f38dc5",
   "metadata": {},
   "outputs": [],
   "source": [
    "df[['Underwriting YoA','Development period','Processing Month','Process year']] = df[['Underwriting YoA','Development period','Processing Month','Process year']].astype('int')\n",
    "df['Processing Month'] = df['Processing Month'].astype('str')\n",
    "#You could also do this one-by-one but its better to do the above\n",
    "#df['Underwriting YoA'] = df['Underwriting YoA'].astype('int')\n",
    "#df['Process year'] = df['Process year'].astype('int')\n",
    "#df['Processing Month'] = df['Processing Month'].astype('int')\n",
    "\n",
    "display(df)"
   ]
  },
  {
   "cell_type": "markdown",
   "id": "acb00a4d",
   "metadata": {},
   "source": [
    "## Displaying a triangle\n",
    "\n",
    "### Creating a new dataFrame \n",
    "\n",
    "This DataFrame will contain only the columns we need. We will need to do some adjusting to the code before we can plot everything, as it doesn't look exactly as we need it to.\n",
    "For example, as you can see in the 'Underwriting YoA' column, the years are repeated. This is not ideal as our aim is to display the data similarly to this (cropped image):\n",
    "![](example_triangle.png)\n",
    "\n",
    "### Extracting the data we need\n",
    "\n",
    "We only need the two columns 'Underwriting YoA' and 'Gross Premiums Received' to create the gross premiums triangle. So we should create another DataFrame that only contains this.\n",
    "We also need the amount of months after the underwriting year, but we can infer this from the 'Underwriting YoA' paired with the positioning in the DataFrame.  \n",
    "  \n",
    "The code might look like a lot, but its just because its heavily commented, there is actually only 14 lines of code (ignoring the 4 print statements)."
   ]
  },
  {
   "cell_type": "code",
   "execution_count": null,
   "id": "3b724e40",
   "metadata": {},
   "outputs": [],
   "source": [
    "# here we are creating a new, smaller DataFrame, and storing only the 2 columns we need in it \n",
    "year_and_gross_premiums_received = df[['Underwriting YoA','Gross Premiums Received']].copy()\n",
    "\n",
    "# uncomment the line below if you would like to see what the new DataFrame looks like\n",
    "#display(year_and_gross_premiums_received)\n",
    "\n",
    "#a variable that holds a list of the lengths of time in months after the underwriting years\n",
    "length_of_time = []\n",
    "# a variable that holds a list of the underwriting years\n",
    "years = []\n",
    "\n",
    "# a variable that holds the current year selected, so we are able to tell when it changes,\n",
    "# here, to start with, we are setting it to be equal to the first value in the Underwriting YoA column\n",
    "current_year_selected = year_and_gross_premiums_received['Underwriting YoA'][0]\n",
    "years.append(current_year_selected)\n",
    "\n",
    "# a variable to keep track of the number of iterations there has been for each year (which tells us the number of months\n",
    "# after the underwriting year we have data for)\n",
    "i = 0\n",
    "\n",
    "# The below for loop iterates over each value in the Underwriting YoA column and, if the year has changed, it adds it \n",
    "# to the end of the list of years (using append(year)), it also adds i (explained above) to a list of the lengths of time\n",
    "for year in year_and_gross_premiums_received['Underwriting YoA']:\n",
    "    # != means \"not equal\"\n",
    "    if current_year_selected != year:\n",
    "        # we set \"i\" back to 0 as the year has changed, so we want to start measuring from 0 again\n",
    "        length_of_time.append(i)\n",
    "        i=0\n",
    "        current_year_selected = year\n",
    "        years.append(year)\n",
    "    #we increment i outside of the above for loop as we want to keep track of the length of time when the year doesn't change\n",
    "    i += 1\n",
    "# we append once more, as the values of the last year won't have been caught by the if condition \n",
    "# this is because the year won't have changed again before the table ends \n",
    "length_of_time.append(i)\n",
    "        \n",
    "print(\"this is the list of lengths of time in months: \" + str(length_of_time))\n",
    "print(\"this is the list of years: \" + str(years) + \"\\n\")\n",
    "print(\"if the list of lengths of time is confusing, look at the table we printed in the exercise before, and note that there \")\n",
    "print(\"are 58 (inc 0) datapoints corresponding to 2013, and 46 to 2014 and so on.\\n \")      "
   ]
  },
  {
   "cell_type": "markdown",
   "id": "c38aabb2",
   "metadata": {},
   "source": [
    "### More data!\n",
    "\n",
    "Now, we need to associate the data from the 'Gross Premiums Received' column to the appropriate year and length of time in months.\n",
    "We will do this by creating a dictionary of values where each key is the year, and each year's value is a list of the Gross Premium Received values corresponding to the amount of time in months that has elapsed since the underwriting year.\n",
    "\n",
    "If you want to know more about dictionaries, look in the [python documentation here](https://docs.python.org/3/tutorial/datastructures.html#dictionaries)"
   ]
  },
  {
   "cell_type": "code",
   "execution_count": null,
   "id": "bfc163f7",
   "metadata": {},
   "outputs": [],
   "source": [
    "# instantiate a new dictionary\n",
    "years_gross_premiums_data = {}\n",
    "\n",
    "# we will use j to keep track of the current index of the datapoint we need\n",
    "j=0\n",
    "\n",
    "# we are going to go through the years and create a dictionary where the key is the year and the value is a list of \n",
    "# all the values corresponding to that year in the 'Gross Premiums Received' column\n",
    "for i, year in enumerate(years):\n",
    "    ref_time_unit_list = []\n",
    "    #for each year that has elapsed after the underwriting year (for each underwriting year)\n",
    "    for time_unit in range(length_of_time[i]):\n",
    "        ref_time_unit_list.append(int(year_and_gross_premiums_received['Gross Premiums Received'][j]))\n",
    "        years_gross_premiums_data[year] = ref_time_unit_list\n",
    "        #increment j\n",
    "        j+=1\n",
    "\n",
    "print(\"This is the dictionary we just created: \\n\" + str(years_gross_premiums_data))\n"
   ]
  },
  {
   "cell_type": "markdown",
   "id": "777b84d4",
   "metadata": {},
   "source": [
    "### Convert the dictionary into a DataFrame\n",
    "\n",
    "In order to convert the dictionary we just made into another DataFrame, all the arrays in the values need to be of the same length, so we will make them all as long as the longest array by padding the remaining length with NaN values.\n",
    "We will also add a totals row and a totals column (similarly to the example) and then add these to the DataFrame."
   ]
  },
  {
   "cell_type": "code",
   "execution_count": null,
   "id": "b639c0c2",
   "metadata": {},
   "outputs": [],
   "source": [
    "#first, find the size of the biggest array\n",
    "largest_array_size = max(length_of_time)\n",
    "\n",
    "# now we can pad with 0s (just because the arrays need to be the same size for us to convert it into a DataFrame) \n",
    "for year in years_gross_premiums_data:\n",
    "    for i in range(largest_array_size - len(years_gross_premiums_data[year])):\n",
    "        years_gross_premiums_data[year].append(np.nan)\n",
    "    \n",
    "# now we are able to convert the dictionary we built into a DataFrame, and display this\n",
    "df_years_gross_prem = pd.DataFrame(years_gross_premiums_data) \n",
    "\n",
    "# I am keeping a copy of the data without the totals row and column for use in the graphs later\n",
    "df1 = df_years_gross_prem.copy()\n",
    "\n",
    "#we will add a 'Total' row\n",
    "df_years_gross_prem.loc['Total1'] = df_years_gross_prem.sum(numeric_only = True, axis = 0)\n",
    "#This will add a 'Total' column\n",
    "df_years_gross_prem.loc[:,'Total2'] = df_years_gross_prem.sum(numeric_only = True, axis = 1)\n",
    "\n",
    "display(df_years_gross_prem)"
   ]
  },
  {
   "cell_type": "markdown",
   "id": "c855c1a2",
   "metadata": {},
   "source": [
    "### Transposing the DataFrame\n",
    "\n",
    "We want to display our table with the rows and columns the other way around. We can do this with one function: ```transpose()```."
   ]
  },
  {
   "cell_type": "code",
   "execution_count": null,
   "id": "a7b96ad9",
   "metadata": {},
   "outputs": [],
   "source": [
    "#we will transpose it to get the orientation we want\n",
    "df_years_gross_prem = df_years_gross_prem.transpose()\n",
    "\n",
    "display(df_years_gross_prem)"
   ]
  },
  {
   "cell_type": "markdown",
   "id": "1cab9ab4",
   "metadata": {},
   "source": [
    "### Displaying all columns\n",
    "\n",
    "The graph above might have limited your table and omitted some rows! If it did, and you want to view the whole table, you can easily do this by setting the ```pd.set_option(\"display.max_columns\", NUMBER)``` to something high, or the value None."
   ]
  },
  {
   "cell_type": "code",
   "execution_count": null,
   "id": "2448bb33",
   "metadata": {},
   "outputs": [],
   "source": [
    "pd.set_option(\"display.max_columns\", None)\n",
    "display(df_years_gross_prem)"
   ]
  },
  {
   "cell_type": "markdown",
   "id": "fcdacd6b",
   "metadata": {},
   "source": [
    "## Displaying Graphs\n",
    "\n",
    "In this next section we will display the Gross Premiums as a graph similar to this (we won't let it drop down):\n",
    "![](Gross_premiums_graph_example.png)\n",
    "\n",
    "### Plot the graph\n",
    "\n",
    "We just need to use two functions for this, since we already adjusted our DataFrame in the other exercise! If you use ```df.plot.line()``` it plots all the numerical columns as separate lines."
   ]
  },
  {
   "cell_type": "code",
   "execution_count": null,
   "id": "346eabca",
   "metadata": {},
   "outputs": [],
   "source": [
    "# N.B. df1 is the DataFrame we used before, just without the totals row and column and without being transposed\n",
    "ax = df1.plot.line()\n",
    "# \"print\" the graph\n",
    "plt.show()"
   ]
  },
  {
   "cell_type": "markdown",
   "id": "8b12d4ee",
   "metadata": {},
   "source": [
    "### Add the axis labels, etc\n",
    "\n",
    "You may want to clean up the graph a bit by adding axes labels and a title.  \n",
    "It might also be worth changing the settings so all your graphs appear bigger.  \n",
    "You may also want to be able to save the graph as an image.  \n",
    "If you are struggling with this, or want to know more, the [matplotlib documentation](https://matplotlib.org/stable/api/_as_gen/matplotlib.pyplot.html) will help, and so will the [pandas.DataFrame.plot documentation](https://pandas.pydata.org/docs/reference/api/pandas.DataFrame.plot.html)."
   ]
  },
  {
   "cell_type": "code",
   "execution_count": null,
   "id": "6258cd7d",
   "metadata": {},
   "outputs": [],
   "source": [
    "# makes our graph a little bit bigger\n",
    "plt.rcParams['figure.dpi'] = 130\n",
    "plt.rcParams['figure.figsize']=(10, 7)\n",
    "\n",
    "# plot our DataFrame  \n",
    "ax = df1.plot.line()\n",
    "\n",
    "# create axes labels and title the graph\n",
    "ax.set(xlabel='Time elapsed (months)', ylabel='Gross Premiums Received', title='Gross Premiums Received')\n",
    "\n",
    "#If you want to display the y axis as $50M, you can create a function to do this (we can then call this later on)\n",
    "def yaxisFormatting(x, y):\n",
    "    return str('${:.0f}'.format(x/1000000) +'M')\n",
    "                                      \n",
    "plt.gca().yaxis.set_major_formatter(matplotlib.ticker.FuncFormatter(yaxisFormatting))\n",
    "\n",
    "# If you want to display the y axis in the form $50,000,000, comment out the line above and uncomment the line below\n",
    "#plt.gca().yaxis.set_major_formatter(plt.matplotlib.ticker.StrMethodFormatter('${x:,.0f}'))\n",
    "\n",
    "# this will save the graph as an image, search in the directory you are in and open it\n",
    "plt.savefig('gross_prem_graph.png')\n",
    "\n",
    "# if you wanted to plot multiple graphs in the same figure, this is also possible \n",
    "# if you wanted to display the graphs as next to each other, change fig, axes = plt.subplots(1,2)\n",
    "fig1, axes = plt.subplots(2)\n",
    "\n",
    "#setting a figure title\n",
    "fig1.suptitle('DISPLAYING MULTIPLE GRAPHS:')\n",
    "\n",
    "# im just plotting the same graph twice. If you want to plot different ones, change a df1 to the name of a different DataFrame\n",
    "df1.plot(ax= axes[0]) \n",
    "df1.plot(ax= axes[1]) \n",
    "\n",
    "# \"print\" the graphs\n",
    "plt.show()"
   ]
  },
  {
   "cell_type": "markdown",
   "id": "b94f2f8a",
   "metadata": {},
   "source": [
    "# Gross Incurred Claims\n",
    "\n",
    "Now, lets progress onto the Gross Incurred Claims column.    \n",
    "Remember, the data.csv file is still stored in the DataFrame called df, so we don't need to read the file again.  \n",
    "\n",
    "You may have noticed that a lot of the code we did in the previous sections is quite general, and we could repurpose a lot of it for this column.\n",
    "Lets make some functions - these allow us to re-use code.\n",
    "\n",
    "## Functions\n",
    "\n",
    "We still will need to create the new DataFrame using the columns we need manually. The function we will make will do pretty much the exact same thing as what we did in the \"Extracting the data we need\" and the \"More data!\" sections for Gross Premiums Received. In addition to this though, it will also convert the dictionary we create into a DataFrame.  \n",
    "Most of the code below should look familiar, I have just taken out the comments and introduced a few new variables to make it more general.\n",
    "\n",
    "Any new piece of code will have a comment."
   ]
  },
  {
   "cell_type": "code",
   "execution_count": null,
   "id": "ecd38d6b",
   "metadata": {},
   "outputs": [],
   "source": [
    "# here we are creating a new, smaller DataFrame, and storing only the 2 columns we need in it \n",
    "year_and_gross_incurred = df[['Underwriting YoA','Gross Incurred Claims']].copy()\n",
    "\n",
    "# uncomment the line below if you would like to see what the new DataFrame looks like\n",
    "#display(year_and_gross_incurred)\n",
    "\n",
    "# in this function, we create a new DataFrame, using a different DataFrame as a parameter (later, we will call the function\n",
    "# with the year_and_gross_Incurred DataFrame we just made\n",
    "def createTriangleDataFrame(originalDF):\n",
    "    #The outlined block below is almost exactly the same as in the \"Extracting the data we need\" section\n",
    "    #__________________________________________________________________________________________________________________________\n",
    "    length_of_time = []\n",
    "    years = []\n",
    "    current_year_selected = originalDF['Underwriting YoA'][0]\n",
    "    years.append(current_year_selected)\n",
    "    i = 0\n",
    "    for year in originalDF['Underwriting YoA']:\n",
    "        if current_year_selected != year:\n",
    "            length_of_time.append(i)\n",
    "            i=0\n",
    "            current_year_selected = year\n",
    "            years.append(year)\n",
    "        i += 1\n",
    "    length_of_time.append(i)\n",
    "    #__________________________________________________________________________________________________________________________\n",
    "    #The outlined block of data below is almost the exact same as the \"More data!\" section \n",
    "    #__________________________________________________________________________________________________________________________\n",
    "    originalDFDictionary = {}\n",
    "    j=0\n",
    "    for year in years:\n",
    "        i = years.index(year)\n",
    "        ref_time_unit_list = []\n",
    "        #the line below is new, basically we are just extracting the name of the desired column from the DataFrame\n",
    "        target_column = originalDF.columns.values.tolist()[1]\n",
    "        for time_unit in range(length_of_time[i]):\n",
    "            ref_time_unit_list.append(int(originalDF[target_column][j]))\n",
    "            originalDFDictionary[year] = ref_time_unit_list\n",
    "            j+=1\n",
    "    #__________________________________________________________________________________________________________________________\n",
    "    #The outlined block of data below is almost the exact same as the first half of the \"Convert the dictionary into a DataFrame\"\n",
    "    #__________________________________________________________________________________________________________________________\n",
    "    temp_array = length_of_time.copy()\n",
    "    temp_array.sort()\n",
    "    largest_array_size = temp_array[len(temp_array)-1]\n",
    "    for year in originalDFDictionary:\n",
    "        for i in range(largest_array_size - len(originalDFDictionary[year])):\n",
    "            originalDFDictionary[year].append(np.nan)\n",
    "    # a function returns exactly one thing. We are returning our updated DataFrame        \n",
    "    return pd.DataFrame(originalDFDictionary)\n",
    "    #__________________________________________________________________________________________________________________________\n",
    "\n",
    "\n",
    "# we assign the return value from our createTriangleDataFrame function and assign it to a new variable\n",
    "df_year_and_gross_incurred = createTriangleDataFrame(year_and_gross_incurred)\n",
    "display(df_year_and_gross_incurred)\n",
    "\n",
    "# if you want to prove to yourself it does the same as the other one (remember this is before we transpose it!) comment out the \n",
    "# 2 lines above and uncomment the 2 lines below to see it work for Gross Premiums Received\n",
    "\n",
    "#df_year_and_gross_premiums_received = createTriangleDataFrame(year_and_gross_premiums_received)\n",
    "#display(df_year_and_gross_premiums_received)\n"
   ]
  },
  {
   "cell_type": "markdown",
   "id": "27fcd1e5",
   "metadata": {},
   "source": [
    "## Transposing and totals function\n",
    "\n",
    "Lets create another function that will take a DataFrame as input, insert the totals columns and transpose it."
   ]
  },
  {
   "cell_type": "code",
   "execution_count": null,
   "id": "cd880a8e",
   "metadata": {},
   "outputs": [],
   "source": [
    "def totalsAndTranspose(originalDF): \n",
    "    #create a new DataFrame, so we can still use the original without totals for graphing\n",
    "    copyDF = originalDF.copy()\n",
    "    #we will add a 'Total' row\n",
    "    copyDF.loc['Total1'] = copyDF.sum(numeric_only = True, axis = 0)\n",
    "    #This will add a 'Total' column\n",
    "    copyDF.loc[:,'Total2'] = copyDF.sum(numeric_only = True, axis = 1)\n",
    "    #we will transpose it to get the orientation we want\n",
    "    return copyDF.transpose()\n",
    "\n",
    "#call the function we just created with df_year_and_gross_incurred\n",
    "display(totalsAndTranspose(df_year_and_gross_incurred))"
   ]
  },
  {
   "cell_type": "markdown",
   "id": "b3dd45a5",
   "metadata": {},
   "source": [
    "##  Displaying Graphs Again\n",
    "\n",
    "The below is very similar to the section inside Gross Premiums Received.  \n",
    "See if you can save the figure as an image called \"gross_incurred_graph.png\""
   ]
  },
  {
   "cell_type": "code",
   "execution_count": null,
   "id": "e3763b89",
   "metadata": {},
   "outputs": [],
   "source": [
    "# plot our DataFrame  \n",
    "ax = df_year_and_gross_incurred.plot.line()\n",
    "\n",
    "# create axes labels and title the graph\n",
    "ax.set(xlabel='Time elapsed (months)', ylabel='Gross Incurred Claims', title='Gross Incurred Claims')\n",
    "\n",
    "#change the format of the labels on the y axis\n",
    "plt.gca().yaxis.set_major_formatter(matplotlib.ticker.FuncFormatter(yaxisFormatting))\n",
    "\n",
    "#save the figure as an image below this comment (before plt.show())\n",
    "\n",
    "plt.show()"
   ]
  },
  {
   "cell_type": "markdown",
   "id": "7bf48d6e",
   "metadata": {},
   "source": [
    "# Gross Paid Claims\n",
    "\n",
    "Now, lets progress onto displaying the triangle and graph for the Gross Paid claims column.\n",
    "\n",
    "This should be easy with our functions! :)"
   ]
  },
  {
   "cell_type": "code",
   "execution_count": null,
   "id": "7f22e50c",
   "metadata": {},
   "outputs": [],
   "source": [
    "# get the columns we need\n",
    "year_and_gross_paid = df[['Underwriting YoA','Gross Paid Claims']].copy()\n",
    "\n",
    "# use the functions we made before\n",
    "df_year_and_gross_paid = createTriangleDataFrame(year_and_gross_paid)\n",
    "display(totalsAndTranspose(df_year_and_gross_paid))\n",
    "\n",
    "#create a graph\n",
    "ax = df_year_and_gross_paid.plot.line()\n",
    "ax.set(xlabel='Time elapsed (months)', ylabel='Gross Paid Claims', title='Gross Paid Claims')\n",
    "plt.gca().yaxis.set_major_formatter(matplotlib.ticker.FuncFormatter(yaxisFormatting))\n",
    "plt.show()"
   ]
  },
  {
   "cell_type": "markdown",
   "id": "3cf063a1",
   "metadata": {},
   "source": [
    "# Creating Pivot Tables\n",
    "\n",
    "Lets move on and create pivot tables for each of the columns we worked with before.\n",
    "\n",
    "# Gross Premiums Received\n",
    "\n",
    "We want to create a pivot table with the Underwriting YoA against the Development period. \n",
    "\n",
    "## Finding the development periods\n",
    "The development period values are held in another column in our DataFrame, but as an extra challenge, lets instead infer it from the processing months. The development period will be the current Processing Month minus the last Processing Month. It also needs to restart from 0 for every new underwriting year.\n",
    "\n",
    "At the very beginning of this HOW2, we converted the \"Processing Month\" from a float to a string. We did this so we could do something called [string slicing](https://www.digitalocean.com/community/tutorials/how-to-index-and-slice-strings-in-python-3). It means you can extract a substring from a string. This will allow us to very easily extract the month from the value, as it is formatted like this: \"201301\". "
   ]
  },
  {
   "cell_type": "code",
   "execution_count": null,
   "id": "bdc2e154",
   "metadata": {
    "scrolled": true
   },
   "outputs": [],
   "source": [
    "# creating a DataFrame with the 3 columns we will need\n",
    "gross_prems_piv= df[['Underwriting YoA','Processing Month','Gross Premiums Received']].copy()\n",
    "\n",
    "#variables to hold a list of the years, and the months\n",
    "\n",
    "prev_year = df['Underwriting YoA'][0]\n",
    "#print(year +\" from \" + df['Processing Month'][0])\n",
    "months = []\n",
    "base = 0\n",
    "prev_month = 0\n",
    "\n",
    "for i, process_month in enumerate(df['Processing Month']):\n",
    "    # using string slicing to extract the month from the process_month (remember it's of the format YYYYMM)\n",
    "    month = int(process_month[4:6])\n",
    "    year = df['Underwriting YoA'][i]\n",
    "    \n",
    "    # restart the base for every new underwriting year\n",
    "    if year != prev_year:\n",
    "        prev_year = year\n",
    "        base = i  \n",
    "        \n",
    "    #if its the first development period of the year, start the base at 0 again\n",
    "    if (i - base) == 0:\n",
    "        months.append(month)\n",
    "        \n",
    "    #if the previous month was december and now its jan, we dont want to add (12-1), we want to add (13-1)\n",
    "    elif prev_month > month:\n",
    "        difference = (month + 12) - prev_month\n",
    "        months.append(months[i-1] + difference)\n",
    "        \n",
    "   # otherwise add the difference between months\n",
    "    else:\n",
    "        difference = month - prev_month\n",
    "        months.append(months[i-1] + difference)\n",
    "    prev_month = month\n",
    "    \n",
    "    \n",
    "# add the resulting list as a column in our DataFrame \n",
    "gross_prems_piv['Development period'] = months\n",
    "\n",
    "# lets check if our column is correct using .equals with the Development period column in the original DataFrame\n",
    "print(\"They are the same: \" + str(gross_prems_piv['Development period'].equals(df['Development period'])))"
   ]
  },
  {
   "cell_type": "markdown",
   "id": "6f776f56",
   "metadata": {},
   "source": [
    "## Creating the pivot table\n",
    "\n",
    "Theres a built in function in pandas for this!"
   ]
  },
  {
   "cell_type": "code",
   "execution_count": null,
   "id": "011c6d57",
   "metadata": {},
   "outputs": [],
   "source": [
    "table_gross_prems = pd.pivot_table(gross_prems_piv, values='Gross Premiums Received', index=['Underwriting YoA'],\n",
    "                    columns=['Development period'])\n",
    "\n",
    "display(table_gross_prems)"
   ]
  },
  {
   "cell_type": "markdown",
   "id": "339b5cd5",
   "metadata": {},
   "source": [
    "# Gross Incurred Claims\n",
    "\n",
    "## Creating the pivot table\n",
    "\n",
    "Lets create a pivot table for Gross Incurred claims! this should be easy, given that we have already worked out the Development period, and can append this to a new DataFrame"
   ]
  },
  {
   "cell_type": "code",
   "execution_count": null,
   "id": "c46ac048",
   "metadata": {},
   "outputs": [],
   "source": [
    "# create our dataframe \n",
    "gross_inc_piv= df[['Underwriting YoA','Processing Month','Gross Incurred Claims']].copy()\n",
    "gross_inc_piv['Development period'] = months\n",
    "\n",
    "# create our pivot table\n",
    "table_gross_inc = pd.pivot_table(gross_inc_piv, values='Gross Incurred Claims', index=['Underwriting YoA'],\n",
    "                  columns=['Development period'])\n",
    "\n",
    "display(table_gross_inc)"
   ]
  },
  {
   "cell_type": "markdown",
   "id": "dff177ae",
   "metadata": {},
   "source": [
    "# Gross Paid Claims\n",
    "\n",
    "## Creating the pivot table\n",
    "\n",
    "For the last example, I wont use the development period we calculated, and will instead use the original values from the dataframe (even though they are the exact same). "
   ]
  },
  {
   "cell_type": "code",
   "execution_count": null,
   "id": "3ad37a78",
   "metadata": {},
   "outputs": [],
   "source": [
    "# create our dataframe \n",
    "gross_paid_piv= df[['Underwriting YoA','Processing Month','Gross Paid Claims', 'Development period']].copy()\n",
    "# create our pivot table\n",
    "table_gross_paid = pd.pivot_table(gross_paid_piv, values='Gross Paid Claims', index=['Underwriting YoA'],\n",
    "                   columns=['Development period'])\n",
    "\n",
    "display(table_gross_paid)"
   ]
  }
 ],
 "metadata": {
  "kernelspec": {
   "display_name": "Python 3 (ipykernel)",
   "language": "python",
   "name": "python3"
  },
  "language_info": {
   "codemirror_mode": {
    "name": "ipython",
    "version": 3
   },
   "file_extension": ".py",
   "mimetype": "text/x-python",
   "name": "python",
   "nbconvert_exporter": "python",
   "pygments_lexer": "ipython3",
   "version": "3.8.10"
  }
 },
 "nbformat": 4,
 "nbformat_minor": 5
}
