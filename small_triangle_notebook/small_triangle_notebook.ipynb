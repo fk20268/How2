{
 "cells": [
  {
   "cell_type": "markdown",
   "id": "935e7358",
   "metadata": {},
   "source": [
    "# HOW2 \n",
    "\n",
    "The following notebook will walk you through some basic python that will help you create triangles and graphs.\n",
    "Make sure you **run all of the code blocks in the order they appear** in this notebook, as they can depend on each other.\n",
    "I have tried to make the variable names as self explanatory as possible.\n",
    "\n",
    "If a line starts with #, then it is a comment and will explain the code it surrounds.\n",
    "\n",
    "\n",
    "## Imports\n",
    "In the cell below, all that is happening is we are importing the packages we will be using in this tutorial "
   ]
  },
  {
   "cell_type": "code",
   "execution_count": null,
   "id": "6a1d7e7d",
   "metadata": {},
   "outputs": [],
   "source": [
    "%matplotlib inline\n",
    "import matplotlib\n",
    "#from tabulate import tabulate\n",
    "import matplotlib.pyplot as plt\n",
    "import pandas as pd\n",
    "import numpy as np"
   ]
  },
  {
   "cell_type": "markdown",
   "id": "f95a0019",
   "metadata": {},
   "source": [
    "Where we have written e.g. ```import matplotlib.pyplot as plt``` all this means is we are importing it and renaming it under an alias we choose. This just makes our lives easier as when we want to call the function, we can just type ```plt``` instead of\n",
    "the entire ```matplotlib.pyplot```\n",
    "\n",
    "The ```%matplotlib inline``` allows us to view the graphs in this notebook\n",
    "\n",
    "# Gross Premiums Received\n",
    "\n",
    "In the section below, we will create triangles and graphs relating to the 'Gross Premiums Received' from the data in the data.csv file.\n",
    "\n",
    "## Reading from a .csv File\n",
    "\n",
    "In the cell below, we are reading the data in the claims.csv file into a DataFrame (using the ```pd.read_csv(FILENAME)``` function). A DataFrame is basically just a spreadsheet. You can name the DataFrame anything, in this example, we have chosen the variable name df.\n",
    "\n",
    "We don't want commas to be polluting our numbers so, to remove them, use ```df = df.replace(',','', regex = True)``` where the ```regex = True``` option will also replace commas inside substrings\n",
    "\n",
    "I'm also going to convert the \"Processing Month\" column to type string, so it is subscriptable. This will be useful in a later exercise\n",
    "\n",
    "The ```display(df)``` command will print a pretty table displaying the DataFrame."
   ]
  },
  {
   "cell_type": "code",
   "execution_count": null,
   "id": "fe22139c",
   "metadata": {},
   "outputs": [],
   "source": [
    "df = pd.read_csv('claims.csv')\n",
    "\n",
    "df.replace(',','', regex = True, inplace=True)\n",
    "\n",
    "# here we just change the pandas settings so we can see all the rows in the tables. You can change it if you would like. \n",
    "# see what happens when you change None to 4 (make sure to change it back afterwards for the rest of the tutorial)\n",
    "pd.set_option(\"display.max_rows\", None)\n",
    "\n",
    "# I am converting this column to type string so i can do string slicing on it later\n",
    "df['Processing Month'] = df['Processing Month'].astype('str')\n",
    "\n",
    "#I am converting the Gross Premiums Received, Gross Paid Claims, Gross Incurred Claims columns to integer\n",
    "df[['Gross Premiums Received', 'Gross Paid Claims', 'Gross Incurred Claims']] = df[['Gross Premiums Received', 'Gross Paid Claims', 'Gross Incurred Claims']].astype('int')\n",
    "\n",
    "display(df)\n",
    "\n",
    "# an alternative to display() is print(tabulate(df, headers = 'keys', tablefmt = 'pretty')), if you want to use it, uncomment\n",
    "# it in the imports and install it on your machine"
   ]
  },
  {
   "cell_type": "markdown",
   "id": "f298bd3f",
   "metadata": {},
   "source": [
    "# Displaying a triangle\n",
    "\n",
    "We will be using a built in pandas function to create our triangles. \n",
    "\n",
    "# Gross Premiums Received\n",
    "\n",
    "We want to create a pivot table with the Underwriting YoA against the Development period. \n",
    "\n",
    "## Finding the development periods\n",
    "The development period values are held in another column in our DataFrame, but as an extra challenge, lets instead infer it from the processing months.\n",
    "Lets find the development period using vector calculations. The formula we want to use is: (Processing year - Underwriting YoA) *12 + Processing month\n",
    "\n",
    "We can start by splitting Processing Month into two columns: Processing Year and Processing Month."
   ]
  },
  {
   "cell_type": "code",
   "execution_count": null,
   "id": "ea9f07f9",
   "metadata": {},
   "outputs": [],
   "source": [
    "# creating a DataFrame with the 3 columns we will need\n",
    "vec_gross_prems_piv= df[['Underwriting YoA','Processing Month','Gross Premiums Received']].copy()\n",
    "\n",
    "# making'Processing Month' into 2 columns: 'Processing Month' and 'Processing Year'\n",
    "# using a built in function str to string slice every value in column aand then converting it to integers again\n",
    "# so we can use the values in our calculations\n",
    "vec_gross_prems_piv['Processing Year'] = vec_gross_prems_piv['Processing Month'].str[:4].astype('int')\n",
    "vec_gross_prems_piv['Processing Month'] = vec_gross_prems_piv['Processing Month'].str[4:6].astype('int')\n",
    "\n",
    "#using our formula to create a list containing the development periods\n",
    "dev_period = []\n",
    "dev_period = (vec_gross_prems_piv['Processing Year']-vec_gross_prems_piv['Underwriting YoA'])*12 + vec_gross_prems_piv['Processing Month']\n",
    "vec_gross_prems_piv['Development period'] = dev_period"
   ]
  },
  {
   "cell_type": "markdown",
   "id": "d7f54113",
   "metadata": {},
   "source": [
    "## Create a Triangle using Pivot Tables\n",
    "\n",
    "We can now create the triangle from our DataFrame using the [pd.pivot_table function](https://pandas.pydata.org/docs/reference/api/pandas.pivot_table.html). We will also insert a \"Grand Total\" row and column.\n",
    "\n",
    "the ```margins = True``` inserts a Totals row and column using the ```margins_name = 'Grand Total'``` as the titles."
   ]
  },
  {
   "cell_type": "code",
   "execution_count": null,
   "id": "a40313ff",
   "metadata": {
    "scrolled": true
   },
   "outputs": [],
   "source": [
    "table_gross_prems = pd.pivot_table(vec_gross_prems_piv, values='Gross Premiums Received', index=['Underwriting YoA'],\n",
    "                    columns=['Development period'],aggfunc= {\"Gross Premiums Received\":np.sum} ,margins = True, \n",
    "                    margins_name = 'Grand Total')\n",
    "\n",
    "display(table_gross_prems)"
   ]
  },
  {
   "cell_type": "markdown",
   "id": "ebd8fd59",
   "metadata": {},
   "source": [
    "## Displaying Graphs\n",
    "\n",
    "In this next section we will display the Gross Premiums as a graph similar to this (we won't let it drop down):\n",
    "![](Gross_premiums_graph_example.png)\n",
    "\n",
    "### Plot the graph\n",
    "\n",
    "If you use ```df.plot.line()``` it plots all the numerical columns as separate lines. We can't just straight away plot the pivot table using .plot.line() because it will plot the wrong indexes, we want to transpose it first. If you want further explanation, read the [documentation for .plot.line()](https://pandas.pydata.org/docs/reference/api/pandas.DataFrame.plot.line.html).    \n",
    "\n",
    "We will use our pivot table, but we will first remove the \"Grand Total\" from the column and row."
   ]
  },
  {
   "cell_type": "code",
   "execution_count": null,
   "id": "770a4afc",
   "metadata": {},
   "outputs": [],
   "source": [
    "#vec_gross_prems_piv.drop('Processing Year', inplace=True, axis = 1)\n",
    "table_gross_prems.drop('Grand Total', inplace=True, axis = 1)\n",
    "table_gross_prems.drop('Grand Total', inplace=True, axis = 0)\n",
    "\n",
    "#plot the graph\n",
    "ax = table_gross_prems.transpose().plot.line()\n",
    "\n",
    "\n",
    "# \"print\" the graph\n",
    "plt.show()"
   ]
  },
  {
   "cell_type": "markdown",
   "id": "827b6a3e",
   "metadata": {},
   "source": [
    "### Add the axis labels, etc\n",
    "\n",
    "You may want to clean up the graph a bit by adding axes labels and a title.  \n",
    "It might also be worth changing the settings so all your graphs appear bigger.  \n",
    "You may also want to be able to save the graph as an image.  \n",
    "If you are struggling with this, or want to know more, the [matplotlib documentation](https://matplotlib.org/stable/api/_as_gen/matplotlib.pyplot.html) will help, and so will the [pandas.DataFrame.plot documentation](https://pandas.pydata.org/docs/reference/api/pandas.DataFrame.plot.html)."
   ]
  },
  {
   "cell_type": "code",
   "execution_count": null,
   "id": "f44d1c0f",
   "metadata": {},
   "outputs": [],
   "source": [
    "# makes our graph a little bit bigger\n",
    "plt.rcParams['figure.dpi'] = 100\n",
    "plt.rcParams['figure.figsize']=(10, 7)\n",
    "\n",
    "# plot our DataFrame  \n",
    "ax = table_gross_prems.transpose().plot.line()\n",
    "\n",
    "# create axes labels and title the graph\n",
    "ax.set(xlabel='Time elapsed (months)', ylabel='Gross Premiums Received', title='Gross Premiums Received')\n",
    "\n",
    "#If you want to display the y axis as $50M, you can create a function to do this (we can then call this later on)\n",
    "def yaxisFormatting(x, y):\n",
    "    return str('${:.0f}'.format(x/1000000) +'M')\n",
    "                                      \n",
    "plt.gca().yaxis.set_major_formatter(matplotlib.ticker.FuncFormatter(yaxisFormatting))\n",
    "\n",
    "# If you want to display the y axis in the form $50,000,000, comment out the line above and uncomment the line below\n",
    "#plt.gca().yaxis.set_major_formatter(plt.matplotlib.ticker.StrMethodFormatter('${x:,.0f}'))\n",
    "\n",
    "# this will save the graph as an image, search in the directory you are in and open it\n",
    "plt.savefig('gross_prem_graph.png')\n",
    "\n",
    "# if you wanted to plot multiple graphs in the same figure, this is also possible \n",
    "# if you wanted to display the graphs as next to each other, change fig, axes = plt.subplots(1,2)\n",
    "fig1, axes = plt.subplots(2)\n",
    "\n",
    "#setting a figure title\n",
    "fig1.suptitle('DISPLAYING MULTIPLE GRAPHS:')\n",
    "\n",
    "# im just plotting the same graph twice. If you want to plot different ones, change a table_gross_prems.transpose() to the name of a different DataFrame\n",
    "table_gross_prems.transpose().plot(ax= axes[0]) \n",
    "table_gross_prems.transpose().plot(ax= axes[1]) \n",
    "\n",
    "# \"print\" the graphs\n",
    "plt.show()"
   ]
  },
  {
   "cell_type": "markdown",
   "id": "c1d65772",
   "metadata": {},
   "source": [
    "# Gross Incurred Claims\n",
    "\n",
    "Lets repeat the process for Gross Incurred Claims. We already worked out the development period, so we can just append it to the DataFrame."
   ]
  },
  {
   "cell_type": "code",
   "execution_count": null,
   "id": "fd02e5dc",
   "metadata": {},
   "outputs": [],
   "source": [
    "# create a DataFrame with the colums we need\n",
    "gross_inc_piv= df[['Underwriting YoA','Processing Month','Gross Incurred Claims']].copy()\n",
    "\n",
    "# create a new column containing the development periods\n",
    "gross_inc_piv['Development period'] = dev_period\n",
    "\n",
    "# create our pivot table\n",
    "table_gross_inc = pd.pivot_table(gross_inc_piv, values='Gross Incurred Claims', index=['Underwriting YoA'],\n",
    "                  columns=['Development period'])\n",
    "\n",
    "display(table_gross_inc)"
   ]
  },
  {
   "cell_type": "markdown",
   "id": "792f0a41",
   "metadata": {},
   "source": [
    "## Displaying the graph"
   ]
  },
  {
   "cell_type": "code",
   "execution_count": null,
   "id": "ad7052bc",
   "metadata": {},
   "outputs": [],
   "source": [
    "#transpose the table so it plots the graph how we would like\n",
    "ax = table_gross_inc.transpose().plot.line()\n",
    "\n",
    "#change axis labels\n",
    "ax.set(xlabel='Development period', ylabel='Gross Incurred Claims', title='Gross Incurred Claims')\n",
    "plt.gca().yaxis.set_major_formatter(matplotlib.ticker.FuncFormatter(yaxisFormatting))\n",
    "plt.show()"
   ]
  },
  {
   "cell_type": "markdown",
   "id": "3de5cf44",
   "metadata": {},
   "source": [
    "# Gross Paid Claims\n",
    " \n",
    "We will now do the same for the Gross Paid Claims"
   ]
  },
  {
   "cell_type": "code",
   "execution_count": null,
   "id": "e2c2471c",
   "metadata": {},
   "outputs": [],
   "source": [
    "# create our dataframe \n",
    "gross_paid_piv= df[['Underwriting YoA','Processing Month','Gross Paid Claims']].copy()\n",
    "gross_paid_piv['Development period'] = dev_period\n",
    "\n",
    "# create our pivot table\n",
    "table_gross_paid = pd.pivot_table(gross_paid_piv, values='Gross Paid Claims', index=['Underwriting YoA'],\n",
    "                   columns=['Development period'])\n",
    "\n",
    "display(table_gross_paid)"
   ]
  },
  {
   "cell_type": "markdown",
   "id": "826f6823",
   "metadata": {},
   "source": [
    "## Displaying the graph"
   ]
  },
  {
   "cell_type": "code",
   "execution_count": null,
   "id": "e8a2811f",
   "metadata": {},
   "outputs": [],
   "source": [
    "#transpose the table so it plots the graph how we would like\n",
    "ax = table_gross_paid.transpose().plot.line()\n",
    "\n",
    "#change axis labels\n",
    "ax.set(xlabel='Development period', ylabel='Gross Paid Claims', title='Gross Paid Claims')\n",
    "plt.gca().yaxis.set_major_formatter(matplotlib.ticker.FuncFormatter(yaxisFormatting))\n",
    "plt.show()"
   ]
  }
 ],
 "metadata": {
  "kernelspec": {
   "display_name": "Python 3 (ipykernel)",
   "language": "python",
   "name": "python3"
  },
  "language_info": {
   "codemirror_mode": {
    "name": "ipython",
    "version": 3
   },
   "file_extension": ".py",
   "mimetype": "text/x-python",
   "name": "python",
   "nbconvert_exporter": "python",
   "pygments_lexer": "ipython3",
   "version": "3.8.10"
  }
 },
 "nbformat": 4,
 "nbformat_minor": 5
}
